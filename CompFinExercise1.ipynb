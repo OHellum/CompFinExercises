{
 "cells": [
  {
   "cell_type": "markdown",
   "source": [
    "These exercises are meant to train you in applying the Pathwise and LRM method for Greeks.\r\n",
    "We remain in the Black-Scholes model in order to have a correct answer compare with. This\r\n",
    "exercise is still worth doing as the conclusions will mostly generalize to more general settings\r\n",
    "where the true/analytical solutions are not available."
   ],
   "metadata": {}
  },
  {
   "cell_type": "markdown",
   "source": [
    "Throughout both exercises assume that you have a Black-Scholes model with $\\sigma=0.3,S_0=100$, options have expiry $T=1$ and $r=0.03$. In each question, simulate a minimum of $100,000$ realizations."
   ],
   "metadata": {}
  },
  {
   "cell_type": "markdown",
   "source": [
    "# Exercise 1"
   ],
   "metadata": {}
  },
  {
   "cell_type": "markdown",
   "source": [
    "## 1.1\r\n",
    "*Calculate estimates of the delta of a call-option using the pathwise method and the\r\n",
    "LRM method for a suitable number strikes ranging from 70 to 140. Plot the result in\r\n",
    "one graph that also includes the true/analytical delta.*"
   ],
   "metadata": {}
  },
  {
   "cell_type": "markdown",
   "source": [
    "Analytical:\r\n",
    "$$\r\n",
    "\\Delta_t = e^{-q(T-t)}\\Phi(d_1) = \\Phi(d_1)\r\n",
    "$$\r\n",
    "where \r\n",
    "$$\r\n",
    "d_1 = \\frac{\\ln(S/K) + (r-q+\\frac{1}{2}\\sigma^2)(T-t)}{\\sigma\\sqrt{T-t}}\r\n",
    "$$"
   ],
   "metadata": {}
  },
  {
   "cell_type": "markdown",
   "source": [
    "## 1.2\r\n",
    "*Draw a similar graph that plots the variance (per replication) of the pathwise method\r\n",
    "and the LRM method across the same set of strikes. Which method is best? (Obviously\r\n",
    "the analytical formula, but as stated above, that not really the point here)*"
   ],
   "metadata": {}
  },
  {
   "cell_type": "markdown",
   "source": [
    "## 1.3\r\n",
    "*Repeat the previous question using antithetic sampling as variance reduction technique.\r\n",
    "Is there a significant reduction in variance? Does this change your conclusion?*"
   ],
   "metadata": {}
  },
  {
   "cell_type": "markdown",
   "source": [
    "## 1.4\r\n",
    "*Repeat question 1)+2) but do so for the Vega instead of the delta.*"
   ],
   "metadata": {}
  },
  {
   "cell_type": "markdown",
   "source": [
    "# Exercise 2\r\n",
    "Consider now a digital option. Since the pathwise estimator is not applicable one method that can be used is to approximate the payoff using\r\n",
    "$$\r\n",
    "1_{x>K}\\approx f_{\\epsilon}(x) = \\min\\left(1, \\max\\left(0, \\frac{x-K-\\epsilon}{2\\epsilon} \\right) \\right)\r\n",
    "$$\r\n",
    "Note that the approximation can be made \"infinitely accurate\" by letting $\\epsilon$ approach zero."
   ],
   "metadata": {}
  },
  {
   "cell_type": "markdown",
   "source": [
    "## 2.1\r\n",
    "*Asses whether this is an appropriate approximation by plotting deltas across the same\r\n",
    "strikes as in 1.1. In particular, plot the true/analytical delta of the digital, as well as\r\n",
    "the one calculated using the pathwise method applied to the payoff $f_\\epsilon(x)$. Do the latter\r\n",
    "for the two cases, $\\epsilon=0.5$ and $\\epsilon=30$. Describe what you see?*"
   ],
   "metadata": {}
  },
  {
   "cell_type": "markdown",
   "source": [
    "Analytical:\r\n",
    "$$\r\n",
    "C_t = e^{-r(T-t)}\\Phi(d_2) \\Rightarrow\r\n",
    "$$\r\n",
    "$$\r\n",
    "\\Delta = \\frac{\\partial C_t}{\\partial S_t} = \\frac{e^{-r(T-t)}\\phi(d_2)}{\\sigma S_t \\sqrt{T-t}}\r\n",
    "$$"
   ],
   "metadata": {}
  },
  {
   "cell_type": "markdown",
   "source": [
    "## 2.2\r\n",
    "*Do the same but using the pure LRM and the mixed method with $\\epsilon=30$ (see slides p. 69)*"
   ],
   "metadata": {}
  },
  {
   "cell_type": "markdown",
   "source": [
    "## 2.3\r\n",
    "*Plot the variance (per replication) across strikes for the LRM the mixed method with $\\epsilon=30$*"
   ],
   "metadata": {}
  }
 ],
 "metadata": {
  "orig_nbformat": 4,
  "language_info": {
   "name": "python"
  }
 },
 "nbformat": 4,
 "nbformat_minor": 2
}